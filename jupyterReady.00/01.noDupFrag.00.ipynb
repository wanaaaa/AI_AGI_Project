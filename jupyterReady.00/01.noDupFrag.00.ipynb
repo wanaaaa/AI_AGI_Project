{
 "cells": [
  {
   "cell_type": "code",
   "execution_count": 1,
   "id": "1e81408e-9cee-4e03-85f4-f46adff0312d",
   "metadata": {
    "tags": []
   },
   "outputs": [
    {
     "name": "stdout",
     "output_type": "stream",
     "text": [
      "847894\n",
      "840803\n"
     ]
    },
    {
     "data": {
      "text/html": [
       "<div>\n",
       "<style scoped>\n",
       "    .dataframe tbody tr th:only-of-type {\n",
       "        vertical-align: middle;\n",
       "    }\n",
       "\n",
       "    .dataframe tbody tr th {\n",
       "        vertical-align: top;\n",
       "    }\n",
       "\n",
       "    .dataframe thead th {\n",
       "        text-align: right;\n",
       "    }\n",
       "</style>\n",
       "<table border=\"1\" class=\"dataframe\">\n",
       "  <thead>\n",
       "    <tr style=\"text-align: right;\">\n",
       "      <th></th>\n",
       "      <th>tr</th>\n",
       "      <th>aa_length</th>\n",
       "      <th>protein</th>\n",
       "      <th>OS</th>\n",
       "      <th>OX</th>\n",
       "      <th>GN</th>\n",
       "      <th>PE</th>\n",
       "      <th>SV</th>\n",
       "    </tr>\n",
       "  </thead>\n",
       "  <tbody>\n",
       "    <tr>\n",
       "      <th>0</th>\n",
       "      <td>A0A010RP22|A0A010RP22_9PEZI</td>\n",
       "      <td>1704</td>\n",
       "      <td>Pentafunctional AROM polypeptide</td>\n",
       "      <td>Colletotrichum fioriniae PJ7</td>\n",
       "      <td>1445577</td>\n",
       "      <td>CFIO01_03140</td>\n",
       "      <td>3</td>\n",
       "      <td>1.0</td>\n",
       "    </tr>\n",
       "    <tr>\n",
       "      <th>2</th>\n",
       "      <td>A0A017S5L2|A0A017S5L2_ASPRC</td>\n",
       "      <td>1582</td>\n",
       "      <td>Pentafunctional AROM polypeptide</td>\n",
       "      <td>Aspergillus ruber (strain CBS 135680)</td>\n",
       "      <td>1388766</td>\n",
       "      <td>EURHEDRAFT_415450</td>\n",
       "      <td>3</td>\n",
       "      <td>1.0</td>\n",
       "    </tr>\n",
       "    <tr>\n",
       "      <th>3</th>\n",
       "      <td>A0A023PXE1|A0A023PXE1_9TELE</td>\n",
       "      <td>294</td>\n",
       "      <td>Elongation of very long chain fatty acids prot...</td>\n",
       "      <td>Chirostoma estor</td>\n",
       "      <td>587617</td>\n",
       "      <td>ELOVL5</td>\n",
       "      <td>2</td>\n",
       "      <td>1.0</td>\n",
       "    </tr>\n",
       "  </tbody>\n",
       "</table>\n",
       "</div>"
      ],
      "text/plain": [
       "                            tr  aa_length  \\\n",
       "0  A0A010RP22|A0A010RP22_9PEZI       1704   \n",
       "2  A0A017S5L2|A0A017S5L2_ASPRC       1582   \n",
       "3  A0A023PXE1|A0A023PXE1_9TELE        294   \n",
       "\n",
       "                                             protein  \\\n",
       "0                   Pentafunctional AROM polypeptide   \n",
       "2                   Pentafunctional AROM polypeptide   \n",
       "3  Elongation of very long chain fatty acids prot...   \n",
       "\n",
       "                                       OS       OX                  GN  PE  \\\n",
       "0           Colletotrichum fioriniae PJ7   1445577       CFIO01_03140    3   \n",
       "2  Aspergillus ruber (strain CBS 135680)   1388766  EURHEDRAFT_415450    3   \n",
       "3                       Chirostoma estor    587617             ELOVL5    2   \n",
       "\n",
       "    SV  \n",
       "0  1.0  \n",
       "2  1.0  \n",
       "3  1.0  "
      ]
     },
     "execution_count": 1,
     "metadata": {},
     "output_type": "execute_result"
    }
   ],
   "source": [
    "import pandas as pd\n",
    "import numpy as np\n",
    "import matplotlib.pyplot as plt\n",
    "pd.set_option('display.max_rows', None)\n",
    "import seaborn as sns\n",
    "from statistics import mean \n",
    "\n",
    "noDupFrgDf = pd.read_csv('./data/noDupFrgDf.csv')\n",
    "print(len(noDupFrgDf))\n",
    "noDupFrgDf = noDupFrgDf[noDupFrgDf['aa_length'] <= 2500]\n",
    "print(len(noDupFrgDf))\n",
    "noDupFrgDf.head(n=3)"
   ]
  },
  {
   "cell_type": "code",
   "execution_count": null,
   "id": "71844947-6169-4a50-9900-079f251dcc41",
   "metadata": {},
   "outputs": [],
   "source": []
  },
  {
   "cell_type": "code",
   "execution_count": 5,
   "id": "1e8f232b-7aa5-41c3-8592-4bde5917ab6d",
   "metadata": {
    "tags": []
   },
   "outputs": [
    {
     "name": "stdout",
     "output_type": "stream",
     "text": [
      "----------------- 2305\n",
      "[0, 0, 1, 14, 25, 27, 40, 41, 35, 48, 42, 37, 45, 42, 41, 48, 48, 43, 40, 34, 30, 29, 34, 33, 28, 42, 19, 33, 31, 24, 29, 28, 28, 39, 31, 18, 36, 33, 28, 24, 27, 25, 24, 26, 24, 22, 17, 23, 26, 25, 20, 20, 22, 22, 20, 17, 14, 13, 18, 24, 25, 14, 11, 14, 7, 11, 10, 12, 9, 6, 19, 13, 13, 18, 15, 7, 12, 6, 13, 7, 12, 4, 12, 6, 8, 9, 6, 7, 10, 7, 9, 7, 9, 6, 8, 4, 7, 5, 5, 6, 3, 7, 2, 5, 4, 8, 4, 5, 7, 7, 3, 3, 7, 1, 4, 3, 3, 2, 3, 4, 1, 3, 4, 4, 5, 7, 2, 5, 0, 2, 4, 3, 3, 3, 5, 0, 2, 1, 2, 0, 2, 3, 3, 1, 1, 1, 1, 3, 1, 0, 2, 1, 3, 2, 1, 1, 2, 1, 1, 0, 3, 1, 2, 0, 4, 0, 0, 2, 0, 1, 0, 2, 0, 1, 0, 1, 1, 0, 1, 3, 0, 0, 0, 1, 0, 0, 3, 0, 2, 0, 2, 2, 1, 1, 4, 0, 0, 0, 0, 0, 1, 1, 2, 0, 1, 0, 1, 1, 3, 0, 0, 0, 0, 2, 1, 1, 0, 1, 0, 0, 0, 0, 1, 0, 0, 1, 1, 0, 1, 1, 0, 0, 0, 1, 1, 1, 0, 1, 0, 1, 1, 1, 0, 0, 0, 1, 1, 0, 0, 1]\n"
     ]
    }
   ],
   "source": [
    "homoDf = noDupFrgDf[noDupFrgDf['OS'].str.contains('Homo sapiens')]\n",
    "homoLenLt = list(homoDf['aa_length'])\n",
    "\n",
    "homoLen10Dic = {}\n",
    "homoLenNo10Lt = [x - (x % 10) for x in homoLenLt]\n",
    "for ii, cLen in enumerate(homoLenNo10Lt):\n",
    "    # if ii == 1: break\n",
    "    if cLen in homoLen10Dic.keys():\n",
    "        homoLen10Dic[cLen] += 1\n",
    "    else:\n",
    "        homoLen10Dic[cLen] = 1\n",
    "print('-----------------', len(homoDf))\n",
    "\n",
    "x10Bin = [x for x in range(0, 2500, 10)]\n",
    "homoLen10DicKeys = list(homoLen10Dic.keys())\n",
    "homoLen10DicKeys.sort()\n",
    "xyDic = {x:homoLen10Dic[x] if x in homoLen10DicKeys else 0 for x in x10Bin  }\n",
    "y10Bin = [xyDic[x] for x in x10Bin]\n",
    "print(y10Bin)"
   ]
  },
  {
   "cell_type": "code",
   "execution_count": 25,
   "id": "60e2e08f-0884-4943-bfeb-3ecb894b658f",
   "metadata": {
    "tags": []
   },
   "outputs": [
    {
     "data": {
      "text/plain": [
       "<matplotlib.legend.Legend at 0x284ecb50990>"
      ]
     },
     "execution_count": 25,
     "metadata": {},
     "output_type": "execute_result"
    },
    {
     "data": {
      "image/png": "[encoded data removed]",
      "text/plain": [
       "<Figure size 500x300 with 1 Axes>"
      ]
     },
     "metadata": {},
     "output_type": "display_data"
    }
   ],
   "source": [
    "xAver = [x10Bin[x] for x in range(len(x10Bin)-5)]\n",
    "yAver = [mean(y10Bin[x:x+5]) for x in range(len(xAver))]\n",
    "for ii in range(5):\n",
    "    yAver.append(np.nan)\n",
    "\n",
    "\n",
    "\n",
    "numberOfRow, numberOfCol = 1 , 1\n",
    "fig, axes = plt.subplots(numberOfRow, numberOfCol, figsize=(numberOfCol*5,numberOfRow*3) )\n",
    "plt.subplots_adjust(\n",
    "    # left=0.1,\n",
    "    # bottom=0.1, \n",
    "    # right=0.9, \n",
    "    # top=0.9, \n",
    "    wspace=0.3, \n",
    "    hspace=0.4\n",
    ")\n",
    "\n",
    "# wPlot = sns.lineplot(x=x10Bin, y=y10Bin, ax=axes, color='blue')\n",
    "wPlot = sns.lineplot(x=x10Bin, y=yAver, ax=axes, color='blue', label='50aa smothing')\n",
    "wPlot = sns.scatterplot(x=x10Bin, y=y10Bin, ax=axes, s=10, color='red', label='10aa bin' )\n",
    "axes.set_ylabel(\"Number of proteins\", fontsize=10)\n",
    "axes.set_xlabel(\"Length,aa\", fontsize=10) \n",
    "axes.set_title('Homo sapiens' + ' total: '+ str(len(homoDf))) \n",
    "axes.legend()"
   ]
  },
  {
   "cell_type": "code",
   "execution_count": null,
   "id": "23dd827e-c243-4b11-8d1a-bac4baafa2b7",
   "metadata": {
    "tags": []
   },
   "outputs": [],
   "source": []
  },
  {
   "cell_type": "code",
   "execution_count": null,
   "id": "1805ad02-50fb-49b8-8972-80f07dc9e087",
   "metadata": {
    "tags": []
   },
   "outputs": [],
   "source": []
  }
 ],
 "metadata": {
  "kernelspec": {
   "display_name": "Python 3 (ipykernel)",
   "language": "python",
   "name": "python3"
  },
  "language_info": {
   "codemirror_mode": {
    "name": "ipython",
    "version": 3
   },
   "file_extension": ".py",
   "mimetype": "text/x-python",
   "name": "python",
   "nbconvert_exporter": "python",
   "pygments_lexer": "ipython3",
   "version": "3.11.5"
  }
 },
 "nbformat": 4,
 "nbformat_minor": 5
}
