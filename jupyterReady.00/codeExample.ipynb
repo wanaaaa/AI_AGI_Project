{
 "cells": [
  {
   "cell_type": "code",
   "execution_count": null,
   "id": "417d3789-e9ae-428a-bf7a-5a8f961b6145",
   "metadata": {},
   "outputs": [],
   "source": [
    "# hitLt = []\n",
    "# for ii in range(len(noFragTableDf)):\n",
    "#     rowDf = noFragTableDf.iloc[ii]\n",
    "#     trStr = rowDf['tr']\n",
    "#     aaLen = rowDf['aa_length']\n",
    "#     proteinStr = rowDf['protein']\n",
    "#     OSstr = rowDf['OS']\n",
    "#     searchStr = str(trStr) + '<->' + str(proteinStr)+'<->' + str(OSstr)\n",
    "#     searchStr = searchStr.lower()\n",
    "#     if ii % 200000 == 0: print(ii, len(hitLt))\n",
    "#     if 'sapiens' in searchStr:\n",
    "#         print('----------', OSstr)\n",
    "#         hitLt.append(ii)\n",
    "# print('---------------------------------')"
   ]
  }
 ],
 "metadata": {
  "kernelspec": {
   "display_name": "Python 3 (ipykernel)",
   "language": "python",
   "name": "python3"
  },
  "language_info": {
   "codemirror_mode": {
    "name": "ipython",
    "version": 3
   },
   "file_extension": ".py",
   "mimetype": "text/x-python",
   "name": "python",
   "nbconvert_exporter": "python",
   "pygments_lexer": "ipython3",
   "version": "3.11.5"
  }
 },
 "nbformat": 4,
 "nbformat_minor": 5
}
