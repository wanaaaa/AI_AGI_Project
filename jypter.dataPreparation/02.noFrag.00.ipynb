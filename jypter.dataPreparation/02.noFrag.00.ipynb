{
 "cells": [
  {
   "cell_type": "code",
   "execution_count": 1,
   "id": "1e81408e-9cee-4e03-85f4-f46adff0312d",
   "metadata": {
    "tags": []
   },
   "outputs": [],
   "source": [
    "import pandas as pd\n",
    "import numpy as np"
   ]
  },
  {
   "cell_type": "code",
   "execution_count": 2,
   "id": "2c92ad48-3a51-473c-9d4c-7c68dab5bf5a",
   "metadata": {
    "tags": []
   },
   "outputs": [
    {
     "name": "stdout",
     "output_type": "stream",
     "text": [
      "3149775\n"
     ]
    },
    {
     "data": {
      "text/html": [
       "<div>\n",
       "<style scoped>\n",
       "    .dataframe tbody tr th:only-of-type {\n",
       "        vertical-align: middle;\n",
       "    }\n",
       "\n",
       "    .dataframe tbody tr th {\n",
       "        vertical-align: top;\n",
       "    }\n",
       "\n",
       "    .dataframe thead th {\n",
       "        text-align: right;\n",
       "    }\n",
       "</style>\n",
       "<table border=\"1\" class=\"dataframe\">\n",
       "  <thead>\n",
       "    <tr style=\"text-align: right;\">\n",
       "      <th></th>\n",
       "      <th>tr</th>\n",
       "      <th>aa_length</th>\n",
       "      <th>protein</th>\n",
       "      <th>OS</th>\n",
       "      <th>OX</th>\n",
       "      <th>GN</th>\n",
       "      <th>PE</th>\n",
       "      <th>SV</th>\n",
       "    </tr>\n",
       "  </thead>\n",
       "  <tbody>\n",
       "    <tr>\n",
       "      <th>3149772</th>\n",
       "      <td>X8JWJ5|X8JWJ5_9AGAM</td>\n",
       "      <td>392</td>\n",
       "      <td>Mandelate racemase/muconate lactonizing enzyme...</td>\n",
       "      <td>Rhizoctonia solani AG-3 Rhs1AP</td>\n",
       "      <td>1086054</td>\n",
       "      <td>RSOL_510550</td>\n",
       "      <td>4</td>\n",
       "      <td>1.0</td>\n",
       "    </tr>\n",
       "    <tr>\n",
       "      <th>3149773</th>\n",
       "      <td>X8JWS8|X8JWS8_9AGAM</td>\n",
       "      <td>86</td>\n",
       "      <td>E2 ubiquitin-conjugating enzyme</td>\n",
       "      <td>Rhizoctonia solani AG-3 Rhs1AP</td>\n",
       "      <td>1086054</td>\n",
       "      <td>RSOL_521750</td>\n",
       "      <td>3</td>\n",
       "      <td>1.0</td>\n",
       "    </tr>\n",
       "    <tr>\n",
       "      <th>3149774</th>\n",
       "      <td>X8JWX1|X8JWX1_9AGAM</td>\n",
       "      <td>91</td>\n",
       "      <td>NADH ubiquinone oxidoreductase, putative</td>\n",
       "      <td>Rhizoctonia solani AG-3 Rhs1AP</td>\n",
       "      <td>1086054</td>\n",
       "      <td>RSOL_544660</td>\n",
       "      <td>3</td>\n",
       "      <td>NaN</td>\n",
       "    </tr>\n",
       "  </tbody>\n",
       "</table>\n",
       "</div>"
      ],
      "text/plain": [
       "                          tr  aa_length  \\\n",
       "3149772  X8JWJ5|X8JWJ5_9AGAM        392   \n",
       "3149773  X8JWS8|X8JWS8_9AGAM         86   \n",
       "3149774  X8JWX1|X8JWX1_9AGAM         91   \n",
       "\n",
       "                                                   protein  \\\n",
       "3149772  Mandelate racemase/muconate lactonizing enzyme...   \n",
       "3149773                    E2 ubiquitin-conjugating enzyme   \n",
       "3149774           NADH ubiquinone oxidoreductase, putative   \n",
       "\n",
       "                                      OS       OX            GN  PE   SV  \n",
       "3149772  Rhizoctonia solani AG-3 Rhs1AP   1086054  RSOL_510550    4  1.0  \n",
       "3149773  Rhizoctonia solani AG-3 Rhs1AP   1086054  RSOL_521750    3  1.0  \n",
       "3149774  Rhizoctonia solani AG-3 Rhs1AP   1086054  RSOL_544660    3  NaN  "
      ]
     },
     "execution_count": 2,
     "metadata": {},
     "output_type": "execute_result"
    }
   ],
   "source": [
    "noBacTableDf = pd.read_csv('./data/noBacTableDf.csv')\n",
    "print(len(noBacTableDf))\n",
    "noBacTableDf.tail(n=3)"
   ]
  },
  {
   "cell_type": "code",
   "execution_count": null,
   "id": "c07d84fa-4772-4f2a-bda6-4bc58b2de7a0",
   "metadata": {},
   "outputs": [],
   "source": []
  },
  {
   "cell_type": "code",
   "execution_count": 3,
   "id": "4f401cdb-21b0-4f1b-b869-e9a825879007",
   "metadata": {
    "tags": []
   },
   "outputs": [
    {
     "name": "stdout",
     "output_type": "stream",
     "text": [
      "0 0\n",
      "200000 150678\n",
      "400000 335428\n",
      "600000 497850\n",
      "800000 684769\n",
      "1000000 846358\n",
      "1200000 944709\n",
      "1400000 1098707\n",
      "1600000 1256491\n",
      "1800000 1300793\n",
      "2000000 1330558\n",
      "2200000 1405882\n",
      "2400000 1428487\n",
      "2600000 1499221\n",
      "2800000 1518836\n",
      "3000000 1559252\n",
      "----------------------- 1577926\n"
     ]
    }
   ],
   "source": [
    "noFragLt = []\n",
    "for ii in range(len(noBacTableDf)):\n",
    "    # if ii == 100000: break\n",
    "    rowDf = noBacTableDf.iloc[ii]\n",
    "    trStr = rowDf['tr']\n",
    "    aaLen = rowDf['aa_length']\n",
    "    proteinStr = rowDf['protein']\n",
    "    OSstr = rowDf['OS']\n",
    "    searchStr = str(trStr) + '<->' + str(proteinStr)+'<->' + str(OSstr)\n",
    "    searchStr = searchStr.lower()\n",
    "    if ii % 200000 == 0: print(ii, len(noFragLt))\n",
    "    if '(fragment)' in searchStr:\n",
    "        noFragLt.append(ii)\n",
    "        # print(\">>>>>>>>>>>>>>>>>>>\", ii, len(horseLt), searchStr)\n",
    "print('-----------------------', len(noFragLt) )"
   ]
  },
  {
   "cell_type": "code",
   "execution_count": 4,
   "id": "8969700c-72c6-4167-9110-e6dc73e82ac6",
   "metadata": {
    "tags": []
   },
   "outputs": [
    {
     "name": "stdout",
     "output_type": "stream",
     "text": [
      "1571849\n"
     ]
    }
   ],
   "source": [
    "noFragTableDf = noBacTableDf.drop(index=noFragLt)\n",
    "noFragTableDf.to_csv('./data/noFragTableDf.csv', index=False)\n",
    "noFragTableDf = pd.read_csv('./data/noFragTableDf.csv')\n",
    "print(len(noFragTableDf))"
   ]
  },
  {
   "cell_type": "code",
   "execution_count": 5,
   "id": "aa8470a1-b783-4c95-861f-ddb883677981",
   "metadata": {
    "tags": []
   },
   "outputs": [
    {
     "name": "stdout",
     "output_type": "stream",
     "text": [
      "0 0\n",
      "200000 0\n",
      "400000 0\n",
      "600000 0\n",
      "800000 0\n",
      "1000000 0\n",
      "1200000 0\n",
      "1400000 0\n",
      "----------------------- 0\n"
     ]
    }
   ],
   "source": [
    "noFragLt = []\n",
    "for ii in range(len(noFragTableDf)):\n",
    "    # if ii == 100000: break\n",
    "    rowDf = noFragTableDf.iloc[ii]\n",
    "    trStr = rowDf['tr']\n",
    "    aaLen = rowDf['aa_length']\n",
    "    proteinStr = rowDf['protein']\n",
    "    OSstr = rowDf['OS']\n",
    "    searchStr = str(trStr) + '<->' + str(proteinStr)+'<->' + str(OSstr)\n",
    "    searchStr = searchStr.lower()\n",
    "    if ii % 200000 == 0: print(ii, len(noFragLt))\n",
    "    if '(fragment)' in searchStr:\n",
    "        noFragLt.append(ii)\n",
    "        # print(\">>>>>>>>>>>>>>>>>>>\", ii, len(horseLt), searchStr)\n",
    "print('-----------------------', len(noFragLt) )"
   ]
  },
  {
   "cell_type": "code",
   "execution_count": null,
   "id": "40462e7c-7d1c-4690-b52e-00212a7fbf31",
   "metadata": {},
   "outputs": [],
   "source": [
    "print(len)"
   ]
  },
  {
   "cell_type": "code",
   "execution_count": null,
   "id": "dd4f6c3a-ed5b-4908-8784-43403027c372",
   "metadata": {},
   "outputs": [],
   "source": []
  },
  {
   "cell_type": "code",
   "execution_count": null,
   "id": "867b7b39-d05e-4270-9118-27ab2955c3e2",
   "metadata": {},
   "outputs": [],
   "source": []
  },
  {
   "cell_type": "code",
   "execution_count": null,
   "id": "71844947-6169-4a50-9900-079f251dcc41",
   "metadata": {},
   "outputs": [],
   "source": []
  }
 ],
 "metadata": {
  "kernelspec": {
   "display_name": "Python 3 (ipykernel)",
   "language": "python",
   "name": "python3"
  },
  "language_info": {
   "codemirror_mode": {
    "name": "ipython",
    "version": 3
   },
   "file_extension": ".py",
   "mimetype": "text/x-python",
   "name": "python",
   "nbconvert_exporter": "python",
   "pygments_lexer": "ipython3",
   "version": "3.11.5"
  }
 },
 "nbformat": 4,
 "nbformat_minor": 5
}
