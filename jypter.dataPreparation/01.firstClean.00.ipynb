{
 "cells": [
  {
   "cell_type": "code",
   "execution_count": 2,
   "id": "1e81408e-9cee-4e03-85f4-f46adff0312d",
   "metadata": {
    "tags": []
   },
   "outputs": [],
   "source": [
    "import pandas as pd\n",
    "import numpy as np"
   ]
  },
  {
   "cell_type": "code",
   "execution_count": 3,
   "id": "2c92ad48-3a51-473c-9d4c-7c68dab5bf5a",
   "metadata": {
    "tags": []
   },
   "outputs": [
    {
     "name": "stdout",
     "output_type": "stream",
     "text": [
      "3790281\n"
     ]
    },
    {
     "data": {
      "text/html": [
       "<div>\n",
       "<style scoped>\n",
       "    .dataframe tbody tr th:only-of-type {\n",
       "        vertical-align: middle;\n",
       "    }\n",
       "\n",
       "    .dataframe tbody tr th {\n",
       "        vertical-align: top;\n",
       "    }\n",
       "\n",
       "    .dataframe thead th {\n",
       "        text-align: right;\n",
       "    }\n",
       "</style>\n",
       "<table border=\"1\" class=\"dataframe\">\n",
       "  <thead>\n",
       "    <tr style=\"text-align: right;\">\n",
       "      <th></th>\n",
       "      <th>tr</th>\n",
       "      <th>aa_length</th>\n",
       "      <th>protein</th>\n",
       "      <th>OS</th>\n",
       "      <th>OX</th>\n",
       "      <th>GN</th>\n",
       "      <th>PE</th>\n",
       "      <th>SV</th>\n",
       "    </tr>\n",
       "  </thead>\n",
       "  <tbody>\n",
       "    <tr>\n",
       "      <th>3790278</th>\n",
       "      <td>X8JWJ5|X8JWJ5_9AGAM</td>\n",
       "      <td>392</td>\n",
       "      <td>Mandelate racemase/muconate lactonizing enzyme...</td>\n",
       "      <td>Rhizoctonia solani AG-3 Rhs1AP</td>\n",
       "      <td>1086054</td>\n",
       "      <td>RSOL_510550</td>\n",
       "      <td>4</td>\n",
       "      <td>1.0</td>\n",
       "    </tr>\n",
       "    <tr>\n",
       "      <th>3790279</th>\n",
       "      <td>X8JWS8|X8JWS8_9AGAM</td>\n",
       "      <td>86</td>\n",
       "      <td>E2 ubiquitin-conjugating enzyme</td>\n",
       "      <td>Rhizoctonia solani AG-3 Rhs1AP</td>\n",
       "      <td>1086054</td>\n",
       "      <td>RSOL_521750</td>\n",
       "      <td>3</td>\n",
       "      <td>1.0</td>\n",
       "    </tr>\n",
       "    <tr>\n",
       "      <th>3790280</th>\n",
       "      <td>X8JWX1|X8JWX1_9AGAM</td>\n",
       "      <td>91</td>\n",
       "      <td>NADH ubiquinone oxidoreductase, putative</td>\n",
       "      <td>Rhizoctonia solani AG-3 Rhs1AP</td>\n",
       "      <td>1086054</td>\n",
       "      <td>RSOL_544660</td>\n",
       "      <td>3</td>\n",
       "      <td>NaN</td>\n",
       "    </tr>\n",
       "  </tbody>\n",
       "</table>\n",
       "</div>"
      ],
      "text/plain": [
       "                          tr  aa_length  \\\n",
       "3790278  X8JWJ5|X8JWJ5_9AGAM        392   \n",
       "3790279  X8JWS8|X8JWS8_9AGAM         86   \n",
       "3790280  X8JWX1|X8JWX1_9AGAM         91   \n",
       "\n",
       "                                                   protein  \\\n",
       "3790278  Mandelate racemase/muconate lactonizing enzyme...   \n",
       "3790279                    E2 ubiquitin-conjugating enzyme   \n",
       "3790280           NADH ubiquinone oxidoreductase, putative   \n",
       "\n",
       "                                      OS       OX            GN  PE   SV  \n",
       "3790278  Rhizoctonia solani AG-3 Rhs1AP   1086054  RSOL_510550    4  1.0  \n",
       "3790279  Rhizoctonia solani AG-3 Rhs1AP   1086054  RSOL_521750    3  1.0  \n",
       "3790280  Rhizoctonia solani AG-3 Rhs1AP   1086054  RSOL_544660    3  NaN  "
      ]
     },
     "execution_count": 3,
     "metadata": {},
     "output_type": "execute_result"
    }
   ],
   "source": [
    "tableDf = pd.read_csv('./data/tableDf.csv')\n",
    "print(len(tableDf))\n",
    "tableDf.tail(n=3)"
   ]
  },
  {
   "cell_type": "code",
   "execution_count": null,
   "id": "210a957d-0826-4a2b-a475-b50dbea82219",
   "metadata": {
    "tags": []
   },
   "outputs": [],
   "source": [
    "for ii in range(len(tableDf)):\n",
    "    rowDf = tableDf.iloc[ii]\n",
    "    trStr = rowDf['tr']\n",
    "    proteinStr = rowDf['protein']\n",
    "    if pd.isnull(proteinStr):\n",
    "        print(ii, trStr, proteinStr)"
   ]
  },
  {
   "cell_type": "code",
   "execution_count": null,
   "id": "40d11f3f-b207-464c-b2f8-5ae87ce2a21b",
   "metadata": {
    "tags": []
   },
   "outputs": [],
   "source": [
    "# tableDf = tableDf.drop(index=[3477599, 3477638])\n",
    "# tableDf.to_csv('./data/tableDf.csv', index=False)\n",
    "# tableDf = pd.read_csv('./data/tableDf.csv')\n",
    "print(len(tableDf))\n",
    "# df.drop(index=[1,3])"
   ]
  },
  {
   "cell_type": "code",
   "execution_count": null,
   "id": "33bfdc11-7722-427d-bafc-4a658b2b7b33",
   "metadata": {
    "tags": []
   },
   "outputs": [],
   "source": [
    "# remove Virus\n",
    "removeLt = []\n",
    "for ii in range(len(tableDf)):\n",
    "    if ii == 100: break\n",
    "    rowDf = tableDf.iloc[ii]\n",
    "    trStr = rowDf['tr']\n",
    "    proteinStr = rowDf['protein']\n",
    "    OSstr = rowDf['OS']\n",
    "    OXstr = rowDf['OX']\n",
    "    searchStr = str(trStr) + '<->' + str(proteinStr)+'<->' + str(OSstr)+'<->' + str(OXstr)\n",
    "    searchStr = searchStr.lower()\n",
    "    if 'virus' in  searchStr:\n",
    "        if len(removeLt) % 1000 == 0:\n",
    "            print(ii, len(removeLt),  searchStr)\n",
    "        removeLt.append(ii)\n",
    "print('-------------', len(removeLt))"
   ]
  },
  {
   "cell_type": "code",
   "execution_count": null,
   "id": "2ceede17-cc38-4b05-847c-1aea0624262c",
   "metadata": {
    "tags": []
   },
   "outputs": [],
   "source": [
    "# tableDf = tableDf.drop(index=removeLt)\n",
    "# tableDf.to_csv('./data/tableDf.csv', index=False)\n",
    "# tableDf = pd.read_csv('./data/tableDf.csv')\n",
    "# print(len(tableDf))"
   ]
  },
  {
   "cell_type": "code",
   "execution_count": null,
   "id": "cb2b14ff-6ba4-4524-b787-cad47a83cf0d",
   "metadata": {
    "tags": []
   },
   "outputs": [],
   "source": [
    "dupliDic = {}\n",
    "for ii in range(len(tableDf)):\n",
    "    # if ii == 100000: break\n",
    "    rowDf = tableDf.iloc[ii]\n",
    "    trStr = rowDf['tr']\n",
    "    aaLen = rowDf['aa_length']\n",
    "    proteinStr = rowDf['protein']\n",
    "    OSstr = rowDf['OS']\n",
    "    keyTuple = (aaLen, proteinStr, OSstr)\n",
    "    if ii % 40000 == 0: print(ii, len(dupliDic.keys())) \n",
    "    if keyTuple in list(dupliDic.keys()):\n",
    "        dupliDic[keyTuple] += 1\n",
    "        # print(\"@@@@@@@@@@@@@@\", ii, dupliDic[keyTuple], keyTuple )\n",
    "    else:\n",
    "        dupliDic[keyTuple] = 1\n",
    "print('---------------')"
   ]
  },
  {
   "cell_type": "code",
   "execution_count": null,
   "id": "15fa7bfc-7f57-4da2-8457-8ccd059b7128",
   "metadata": {},
   "outputs": [],
   "source": []
  },
  {
   "cell_type": "code",
   "execution_count": 5,
   "id": "a9d4ef22-f13a-476c-8d92-e1ac05cd92ba",
   "metadata": {
    "tags": []
   },
   "outputs": [
    {
     "name": "stdout",
     "output_type": "stream",
     "text": [
      "3790281 Index(['tr', 'aa_length', 'protein', 'OS', 'OX', 'GN', 'PE', 'SV'], dtype='object')\n"
     ]
    }
   ],
   "source": [
    "print(len(tableDf), tableDf.columns)"
   ]
  },
  {
   "cell_type": "code",
   "execution_count": 7,
   "id": "5ec62f45-07d7-4f27-92f8-1528dcf33163",
   "metadata": {
    "tags": []
   },
   "outputs": [
    {
     "name": "stdout",
     "output_type": "stream",
     "text": [
      "------------ 3149896\n"
     ]
    }
   ],
   "source": [
    "noDupTableDf = tableDf.drop_duplicates(subset=['aa_length', 'protein', 'OS'], keep='last')\n",
    "print('------------', len(noDupTableDf))"
   ]
  },
  {
   "cell_type": "code",
   "execution_count": 8,
   "id": "819d681d-b038-4dbe-a096-d0659897624f",
   "metadata": {
    "tags": []
   },
   "outputs": [
    {
     "name": "stdout",
     "output_type": "stream",
     "text": [
      "3149896\n"
     ]
    }
   ],
   "source": [
    "noDupTableDf.to_csv('./data/noDupTableDf.csv', index=False)\n",
    "noDupTableDf = pd.read_csv('./data/noDupTableDf.csv')\n",
    "print(len(noDupTableDf))"
   ]
  },
  {
   "cell_type": "code",
   "execution_count": 24,
   "id": "3af7c177-a275-4e17-896f-5a88fee1547c",
   "metadata": {
    "tags": []
   },
   "outputs": [
    {
     "name": "stdout",
     "output_type": "stream",
     "text": [
      "0 0 a0a010rp22|a0a010rp22_9pezi<->pentafunctional arom polypeptide<->colletotrichum fioriniae pj7 \n",
      "200000 150678 a0a0s1zkb9|a0a0s1zkb9_9dipt<->cytochrome c oxidase subunit 1 (fragment)<->cecidomyiidae sp. bold:acg4019 \n",
      "400000 335428 a0a1d5ar55|a0a1d5ar55_lymdi<->cytochrome c oxidase subunit 1 (fragment)<->lymantria dispar \n",
      "600000 497850 a0a2u3uyn6|a0a2u3uyn6_turtr<->cytidine deaminase<->tursiops truncatus \n",
      "800000 684769 a0a3g1w630|a0a3g1w630_9dipt<->cytochrome c oxidase subunit 1 (fragment)<->cratyna nobilis \n",
      "1000000 846358 a0a5q0lsb4|a0a5q0lsb4_9neop<->cytochrome c oxidase subunit 1 (fragment)<->siamusotima disrupta \n",
      "1200000 944709 a0a8h7q0d6|a0a8h7q0d6_moris<->ubiquinone biosynthesis monooxygenase coq6, mitochondrial<->mortierella isabellina \n",
      "1400000 1098707 h6apj4|h6apj4_9chir<->cytochrome c oxidase subunit 1 (fragment)<->myotis petax \n",
      "1600000 1256491 a0a0b2sv57|a0a0b2sv57_glyso<->u-box domain-containing protein<->glycine soja \n",
      "1800000 1300793 a0a2u1qm69|a0a2u1qm69_artan<->alpha-1,4 glucan phosphorylase<->artemisia annua \n",
      "2000000 1330558 a0a6d2j4k0|a0a6d2j4k0_9bras<->methionine aminopeptidase<->microthlaspi erraticum \n",
      "2200000 1405882 a0a8b9y3z6|a0a8b9y3z6_bosmu<->isocitrate dehydrogenase [nad] subunit alpha, mitochondrial<->bos mutus grunniens \n",
      "2400000 1428487 a0a9w2vfq9|a0a9w2vfq9_panpr<->heparan-sulfate 6-o-sulfotransferase<->panthera pardus \n",
      "2600000 1499221 a0a093hzj5|a0a093hzj5_strca<->atrial natriuretic peptide-converting enzyme (fragment)<->struthio camelus australis \n",
      "2800000 1518836 a0a5j5nsd7|a0a5j5nsd7_gosba<->calcineurin-like phosphoesterase domain-containing protein<->gossypium barbadense \n",
      "3000000 1559252 a0a8x7seh8|a0a8x7seh8_braci<->uncharacterized protein<->brassica carinata \n",
      "----------------------- 1577926\n"
     ]
    }
   ],
   "source": [
    "bacRemoveLt = []\n",
    "for ii in range(len(noDupTableDf)):\n",
    "    # if ii == 100000: break\n",
    "    rowDf = noDupTableDf.iloc[ii]\n",
    "    trStr = rowDf['tr']\n",
    "    aaLen = rowDf['aa_length']\n",
    "    proteinStr = rowDf['protein']\n",
    "    OSstr = rowDf['OS']\n",
    "    searchStr = str(trStr) + '<->' + str(proteinStr)+'<->' + str(OSstr)\n",
    "    searchStr = searchStr.lower()\n",
    "    if ii % 200000 == 0: print(ii, len(bacRemoveLt), searchStr)\n",
    "    if '(fragment)' in searchStr:\n",
    "        # print(\">>>>>>>>>>>>>>>>>>>\", ii, searchStr)\n",
    "        bacRemoveLt.append(ii)\n",
    "\n",
    "print('-----------------------', len(bacRemoveLt) )"
   ]
  },
  {
   "cell_type": "code",
   "execution_count": 16,
   "id": "8efd4a93-931b-4cfe-8ecb-baa6f0c11dc9",
   "metadata": {
    "tags": []
   },
   "outputs": [
    {
     "name": "stdout",
     "output_type": "stream",
     "text": [
      "3149775\n"
     ]
    }
   ],
   "source": [
    "noBacTableDf = noDupTableDf.drop(index=bacRemoveLt)\n",
    "noBacTableDf.to_csv('./data/noBacTableDf.csv', index=False)\n",
    "noBacTableDf = pd.read_csv('./data/noBacTableDf.csv')\n",
    "print(len(noBacTableDf))"
   ]
  },
  {
   "cell_type": "code",
   "execution_count": null,
   "id": "b3ae08a4-3a5b-44dc-ba37-0f65dfe8251c",
   "metadata": {},
   "outputs": [],
   "source": []
  },
  {
   "cell_type": "code",
   "execution_count": null,
   "id": "595f3f65-e42b-4cb0-9ed6-c077d59e72a7",
   "metadata": {},
   "outputs": [],
   "source": []
  },
  {
   "cell_type": "code",
   "execution_count": null,
   "id": "c07d84fa-4772-4f2a-bda6-4bc58b2de7a0",
   "metadata": {},
   "outputs": [],
   "source": []
  },
  {
   "cell_type": "code",
   "execution_count": 30,
   "id": "4f401cdb-21b0-4f1b-b869-e9a825879007",
   "metadata": {
    "tags": []
   },
   "outputs": [
    {
     "name": "stdout",
     "output_type": "stream",
     "text": [
      "0 0\n",
      "200000 150678\n",
      "400000 335428\n",
      "600000 497850\n"
     ]
    },
    {
     "ename": "KeyboardInterrupt",
     "evalue": "",
     "output_type": "error",
     "traceback": [
      "\u001b[1;31m---------------------------------------------------------------------------\u001b[0m",
      "\u001b[1;31mKeyboardInterrupt\u001b[0m                         Traceback (most recent call last)",
      "Cell \u001b[1;32mIn[30], line 4\u001b[0m\n\u001b[0;32m      1\u001b[0m noFragLt \u001b[38;5;241m=\u001b[39m []\n\u001b[0;32m      2\u001b[0m \u001b[38;5;28;01mfor\u001b[39;00m ii \u001b[38;5;129;01min\u001b[39;00m \u001b[38;5;28mrange\u001b[39m(\u001b[38;5;28mlen\u001b[39m(noFragTableDf)):\n\u001b[0;32m      3\u001b[0m     \u001b[38;5;66;03m# if ii == 100000: break\u001b[39;00m\n\u001b[1;32m----> 4\u001b[0m     rowDf \u001b[38;5;241m=\u001b[39m noBacTableDf\u001b[38;5;241m.\u001b[39miloc[ii]\n\u001b[0;32m      5\u001b[0m     trStr \u001b[38;5;241m=\u001b[39m rowDf[\u001b[38;5;124m'\u001b[39m\u001b[38;5;124mtr\u001b[39m\u001b[38;5;124m'\u001b[39m]\n\u001b[0;32m      6\u001b[0m     aaLen \u001b[38;5;241m=\u001b[39m rowDf[\u001b[38;5;124m'\u001b[39m\u001b[38;5;124maa_length\u001b[39m\u001b[38;5;124m'\u001b[39m]\n",
      "File \u001b[1;32mC:\\ProgramData\\anaconda3\\Lib\\site-packages\\pandas\\core\\indexing.py:1103\u001b[0m, in \u001b[0;36m_LocationIndexer.__getitem__\u001b[1;34m(self, key)\u001b[0m\n\u001b[0;32m   1100\u001b[0m axis \u001b[38;5;241m=\u001b[39m \u001b[38;5;28mself\u001b[39m\u001b[38;5;241m.\u001b[39maxis \u001b[38;5;129;01mor\u001b[39;00m \u001b[38;5;241m0\u001b[39m\n\u001b[0;32m   1102\u001b[0m maybe_callable \u001b[38;5;241m=\u001b[39m com\u001b[38;5;241m.\u001b[39mapply_if_callable(key, \u001b[38;5;28mself\u001b[39m\u001b[38;5;241m.\u001b[39mobj)\n\u001b[1;32m-> 1103\u001b[0m \u001b[38;5;28;01mreturn\u001b[39;00m \u001b[38;5;28mself\u001b[39m\u001b[38;5;241m.\u001b[39m_getitem_axis(maybe_callable, axis\u001b[38;5;241m=\u001b[39maxis)\n",
      "File \u001b[1;32mC:\\ProgramData\\anaconda3\\Lib\\site-packages\\pandas\\core\\indexing.py:1658\u001b[0m, in \u001b[0;36m_iLocIndexer._getitem_axis\u001b[1;34m(self, key, axis)\u001b[0m\n\u001b[0;32m   1655\u001b[0m \u001b[38;5;66;03m# validate the location\u001b[39;00m\n\u001b[0;32m   1656\u001b[0m \u001b[38;5;28mself\u001b[39m\u001b[38;5;241m.\u001b[39m_validate_integer(key, axis)\n\u001b[1;32m-> 1658\u001b[0m \u001b[38;5;28;01mreturn\u001b[39;00m \u001b[38;5;28mself\u001b[39m\u001b[38;5;241m.\u001b[39mobj\u001b[38;5;241m.\u001b[39m_ixs(key, axis\u001b[38;5;241m=\u001b[39maxis)\n",
      "File \u001b[1;32mC:\\ProgramData\\anaconda3\\Lib\\site-packages\\pandas\\core\\frame.py:3652\u001b[0m, in \u001b[0;36mDataFrame._ixs\u001b[1;34m(self, i, axis)\u001b[0m\n\u001b[0;32m   3650\u001b[0m \u001b[38;5;66;03m# irow\u001b[39;00m\n\u001b[0;32m   3651\u001b[0m \u001b[38;5;28;01mif\u001b[39;00m axis \u001b[38;5;241m==\u001b[39m \u001b[38;5;241m0\u001b[39m:\n\u001b[1;32m-> 3652\u001b[0m     new_mgr \u001b[38;5;241m=\u001b[39m \u001b[38;5;28mself\u001b[39m\u001b[38;5;241m.\u001b[39m_mgr\u001b[38;5;241m.\u001b[39mfast_xs(i)\n\u001b[0;32m   3654\u001b[0m     \u001b[38;5;66;03m# if we are a copy, mark as such\u001b[39;00m\n\u001b[0;32m   3655\u001b[0m     copy \u001b[38;5;241m=\u001b[39m \u001b[38;5;28misinstance\u001b[39m(new_mgr\u001b[38;5;241m.\u001b[39marray, np\u001b[38;5;241m.\u001b[39mndarray) \u001b[38;5;129;01mand\u001b[39;00m new_mgr\u001b[38;5;241m.\u001b[39marray\u001b[38;5;241m.\u001b[39mbase \u001b[38;5;129;01mis\u001b[39;00m \u001b[38;5;28;01mNone\u001b[39;00m\n",
      "File \u001b[1;32mC:\\ProgramData\\anaconda3\\Lib\\site-packages\\pandas\\core\\internals\\managers.py:1052\u001b[0m, in \u001b[0;36mBlockManager.fast_xs\u001b[1;34m(self, loc)\u001b[0m\n\u001b[0;32m   1044\u001b[0m     block \u001b[38;5;241m=\u001b[39m new_block(\n\u001b[0;32m   1045\u001b[0m         result,\n\u001b[0;32m   1046\u001b[0m         placement\u001b[38;5;241m=\u001b[39m\u001b[38;5;28mslice\u001b[39m(\u001b[38;5;241m0\u001b[39m, \u001b[38;5;28mlen\u001b[39m(result)),\n\u001b[0;32m   1047\u001b[0m         ndim\u001b[38;5;241m=\u001b[39m\u001b[38;5;241m1\u001b[39m,\n\u001b[0;32m   1048\u001b[0m         refs\u001b[38;5;241m=\u001b[39m\u001b[38;5;28mself\u001b[39m\u001b[38;5;241m.\u001b[39mblocks[\u001b[38;5;241m0\u001b[39m]\u001b[38;5;241m.\u001b[39mrefs,\n\u001b[0;32m   1049\u001b[0m     )\n\u001b[0;32m   1050\u001b[0m     \u001b[38;5;28;01mreturn\u001b[39;00m SingleBlockManager(block, \u001b[38;5;28mself\u001b[39m\u001b[38;5;241m.\u001b[39maxes[\u001b[38;5;241m0\u001b[39m])\n\u001b[1;32m-> 1052\u001b[0m dtype \u001b[38;5;241m=\u001b[39m interleaved_dtype([blk\u001b[38;5;241m.\u001b[39mdtype \u001b[38;5;28;01mfor\u001b[39;00m blk \u001b[38;5;129;01min\u001b[39;00m \u001b[38;5;28mself\u001b[39m\u001b[38;5;241m.\u001b[39mblocks])\n\u001b[0;32m   1054\u001b[0m n \u001b[38;5;241m=\u001b[39m \u001b[38;5;28mlen\u001b[39m(\u001b[38;5;28mself\u001b[39m)\n\u001b[0;32m   1056\u001b[0m \u001b[38;5;66;03m# GH#46406\u001b[39;00m\n",
      "File \u001b[1;32mC:\\ProgramData\\anaconda3\\Lib\\site-packages\\pandas\\core\\internals\\base.py:224\u001b[0m, in \u001b[0;36minterleaved_dtype\u001b[1;34m(dtypes)\u001b[0m\n\u001b[0;32m    221\u001b[0m \u001b[38;5;28;01mif\u001b[39;00m \u001b[38;5;129;01mnot\u001b[39;00m \u001b[38;5;28mlen\u001b[39m(dtypes):\n\u001b[0;32m    222\u001b[0m     \u001b[38;5;28;01mreturn\u001b[39;00m \u001b[38;5;28;01mNone\u001b[39;00m\n\u001b[1;32m--> 224\u001b[0m \u001b[38;5;28;01mreturn\u001b[39;00m find_common_type(dtypes)\n",
      "File \u001b[1;32mC:\\ProgramData\\anaconda3\\Lib\\site-packages\\pandas\\core\\dtypes\\cast.py:1470\u001b[0m, in \u001b[0;36mfind_common_type\u001b[1;34m(types)\u001b[0m\n\u001b[0;32m   1468\u001b[0m \u001b[38;5;28;01mif\u001b[39;00m \u001b[38;5;28mall\u001b[39m(is_datetime64_dtype(t) \u001b[38;5;28;01mfor\u001b[39;00m t \u001b[38;5;129;01min\u001b[39;00m types):\n\u001b[0;32m   1469\u001b[0m     \u001b[38;5;28;01mreturn\u001b[39;00m np\u001b[38;5;241m.\u001b[39mdtype(\u001b[38;5;28mmax\u001b[39m(types))\n\u001b[1;32m-> 1470\u001b[0m \u001b[38;5;28;01mif\u001b[39;00m \u001b[38;5;28mall\u001b[39m(is_timedelta64_dtype(t) \u001b[38;5;28;01mfor\u001b[39;00m t \u001b[38;5;129;01min\u001b[39;00m types):\n\u001b[0;32m   1471\u001b[0m     \u001b[38;5;28;01mreturn\u001b[39;00m np\u001b[38;5;241m.\u001b[39mdtype(\u001b[38;5;28mmax\u001b[39m(types))\n\u001b[0;32m   1473\u001b[0m \u001b[38;5;66;03m# don't mix bool / int or float or complex\u001b[39;00m\n\u001b[0;32m   1474\u001b[0m \u001b[38;5;66;03m# this is different from numpy, which casts bool with float/int as int\u001b[39;00m\n",
      "File \u001b[1;32mC:\\ProgramData\\anaconda3\\Lib\\site-packages\\pandas\\core\\dtypes\\cast.py:1470\u001b[0m, in \u001b[0;36m<genexpr>\u001b[1;34m(.0)\u001b[0m\n\u001b[0;32m   1468\u001b[0m \u001b[38;5;28;01mif\u001b[39;00m \u001b[38;5;28mall\u001b[39m(is_datetime64_dtype(t) \u001b[38;5;28;01mfor\u001b[39;00m t \u001b[38;5;129;01min\u001b[39;00m types):\n\u001b[0;32m   1469\u001b[0m     \u001b[38;5;28;01mreturn\u001b[39;00m np\u001b[38;5;241m.\u001b[39mdtype(\u001b[38;5;28mmax\u001b[39m(types))\n\u001b[1;32m-> 1470\u001b[0m \u001b[38;5;28;01mif\u001b[39;00m \u001b[38;5;28mall\u001b[39m(is_timedelta64_dtype(t) \u001b[38;5;28;01mfor\u001b[39;00m t \u001b[38;5;129;01min\u001b[39;00m types):\n\u001b[0;32m   1471\u001b[0m     \u001b[38;5;28;01mreturn\u001b[39;00m np\u001b[38;5;241m.\u001b[39mdtype(\u001b[38;5;28mmax\u001b[39m(types))\n\u001b[0;32m   1473\u001b[0m \u001b[38;5;66;03m# don't mix bool / int or float or complex\u001b[39;00m\n\u001b[0;32m   1474\u001b[0m \u001b[38;5;66;03m# this is different from numpy, which casts bool with float/int as int\u001b[39;00m\n",
      "\u001b[1;31mKeyboardInterrupt\u001b[0m: "
     ]
    }
   ],
   "source": [
    "noFragLt = []\n",
    "for ii in range(len(noFragTableDf)):\n",
    "    # if ii == 100000: break\n",
    "    rowDf = noBacTableDf.iloc[ii]\n",
    "    trStr = rowDf['tr']\n",
    "    aaLen = rowDf['aa_length']\n",
    "    proteinStr = rowDf['protein']\n",
    "    OSstr = rowDf['OS']\n",
    "    searchStr = str(trStr) + '<->' + str(proteinStr)+'<->' + str(OSstr)\n",
    "    searchStr = searchStr.lower()\n",
    "    if ii % 200000 == 0: print(ii, len(noFragLt))\n",
    "    if '(fragment)' in searchStr:\n",
    "        noFragLt.append(ii)\n",
    "        # print(\">>>>>>>>>>>>>>>>>>>\", ii, len(horseLt), searchStr)\n",
    "print('-----------------------', len(noFragLt) )"
   ]
  },
  {
   "cell_type": "code",
   "execution_count": 28,
   "id": "8969700c-72c6-4167-9110-e6dc73e82ac6",
   "metadata": {
    "tags": []
   },
   "outputs": [
    {
     "name": "stdout",
     "output_type": "stream",
     "text": [
      "1571849\n"
     ]
    }
   ],
   "source": [
    "noFragTableDf = noBacTableDf.drop(index=noFragLt)\n",
    "noFragTableDf.to_csv('./data/noFragTableDf.csv', index=False)\n",
    "noFragTableDf = pd.read_csv('./data/noFragTableDf.csv')\n",
    "print(len(noFragTableDf))"
   ]
  },
  {
   "cell_type": "code",
   "execution_count": 31,
   "id": "aa8470a1-b783-4c95-861f-ddb883677981",
   "metadata": {
    "tags": []
   },
   "outputs": [
    {
     "name": "stdout",
     "output_type": "stream",
     "text": [
      "0 0\n",
      "200000 150678\n",
      "400000 335428\n",
      "600000 497850\n",
      "800000 684769\n",
      "1000000 846358\n",
      "1200000 944709\n",
      "1400000 1098707\n",
      "----------------------- 1245584\n"
     ]
    }
   ],
   "source": [
    "noFragLt = []\n",
    "for ii in range(len(noFragTableDf)):\n",
    "    # if ii == 100000: break\n",
    "    rowDf = noBacTableDf.iloc[ii]\n",
    "    trStr = rowDf['tr']\n",
    "    aaLen = rowDf['aa_length']\n",
    "    proteinStr = rowDf['protein']\n",
    "    OSstr = rowDf['OS']\n",
    "    searchStr = str(trStr) + '<->' + str(proteinStr)+'<->' + str(OSstr)\n",
    "    searchStr = searchStr.lower()\n",
    "    if ii % 200000 == 0: print(ii, len(noFragLt))\n",
    "    if '(fragment)' in searchStr:\n",
    "        noFragLt.append(ii)\n",
    "        # print(\">>>>>>>>>>>>>>>>>>>\", ii, len(horseLt), searchStr)\n",
    "print('-----------------------', len(noFragLt) )"
   ]
  },
  {
   "cell_type": "code",
   "execution_count": null,
   "id": "40462e7c-7d1c-4690-b52e-00212a7fbf31",
   "metadata": {},
   "outputs": [],
   "source": []
  },
  {
   "cell_type": "code",
   "execution_count": null,
   "id": "dd4f6c3a-ed5b-4908-8784-43403027c372",
   "metadata": {},
   "outputs": [],
   "source": []
  },
  {
   "cell_type": "code",
   "execution_count": null,
   "id": "867b7b39-d05e-4270-9118-27ab2955c3e2",
   "metadata": {},
   "outputs": [],
   "source": []
  },
  {
   "cell_type": "code",
   "execution_count": null,
   "id": "71844947-6169-4a50-9900-079f251dcc41",
   "metadata": {},
   "outputs": [],
   "source": []
  }
 ],
 "metadata": {
  "kernelspec": {
   "display_name": "Python 3 (ipykernel)",
   "language": "python",
   "name": "python3"
  },
  "language_info": {
   "codemirror_mode": {
    "name": "ipython",
    "version": 3
   },
   "file_extension": ".py",
   "mimetype": "text/x-python",
   "name": "python",
   "nbconvert_exporter": "python",
   "pygments_lexer": "ipython3",
   "version": "3.11.5"
  }
 },
 "nbformat": 4,
 "nbformat_minor": 5
}
